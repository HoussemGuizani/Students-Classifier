{
  "cells": [
    {
      "cell_type": "markdown",
      "metadata": {
        "id": "x2n7uE5kKDAX"
      },
      "source": [
        "## Importing Libraries & Data"
      ]
    },
    {
      "cell_type": "code",
      "execution_count": null,
      "metadata": {
        "colab": {
          "base_uri": "https://localhost:8080/"
        },
        "id": "dB2jE6am7Dpo",
        "outputId": "4c507e6f-7976-438a-a53d-09c17c0d5a1e"
      },
      "outputs": [
        {
          "output_type": "stream",
          "name": "stdout",
          "text": [
            "[nltk_data] Downloading package stopwords to /root/nltk_data...\n",
            "[nltk_data]   Package stopwords is already up-to-date!\n",
            "[nltk_data] Downloading package wordnet to /root/nltk_data...\n",
            "[nltk_data]   Unzipping corpora/wordnet.zip.\n",
            "[nltk_data] Downloading package punkt to /root/nltk_data...\n",
            "[nltk_data]   Unzipping tokenizers/punkt.zip.\n"
          ]
        }
      ],
      "source": [
        "#General imports:\n",
        "import pandas as pd\n",
        "import numpy as np, array\n",
        "import seaborn as sns\n",
        "import re, os\n",
        "import matplotlib.pyplot as plt\n",
        "import warnings\n",
        "warnings.simplefilter(action=\"ignore\")\n",
        "\n",
        "#keras\n",
        "from keras.preprocessing.text import one_hot\n",
        "from keras.preprocessing.sequence import pad_sequences\n",
        "from keras.models import Sequential\n",
        "from keras.layers.core import Activation, Dropout, Dense\n",
        "from keras.layers import Flatten\n",
        "from keras.layers import GlobalMaxPooling1D, GlobalMaxPooling2D\n",
        "from keras.layers.embeddings import Embedding\n",
        "from keras.preprocessing.text import Tokenizer\n",
        "from keras.layers.convolutional import Conv1D, Conv2D    \n",
        "from keras.models import Sequential\n",
        "from keras.initializers import Constant\n",
        "from tensorflow.keras.optimizers import Adam\n",
        "from keras.layers.recurrent import LSTM\n",
        "from tensorflow.keras.optimizers import RMSprop\n",
        "from tensorflow.keras.optimizers import RMSprop\n",
        "\n",
        "from keras.models import Model\n",
        "from keras.layers import Input, Embedding, Dense, Conv2D, MaxPool2D\n",
        "from keras.layers import Reshape, Flatten, Concatenate, Dropout, SpatialDropout1D\n",
        "from keras.preprocessing import text, sequence\n",
        "from keras.callbacks import Callback\n",
        "\n",
        "#sklearn\n",
        "from sklearn.utils import shuffle\n",
        "from sklearn.metrics import accuracy_score, balanced_accuracy_score, roc_auc_score\n",
        "from sklearn.model_selection import train_test_split\n",
        "from sklearn.linear_model import LogisticRegression\n",
        "from sklearn.feature_extraction.text import CountVectorizer, TfidfVectorizer\n",
        "from sklearn.naive_bayes import MultinomialNB\n",
        "from sklearn.metrics import confusion_matrix, classification_report\n",
        "from sklearn.decomposition import PCA, TruncatedSVD\n",
        "\n",
        "#NLTK\n",
        "import nltk\n",
        "nltk.download('stopwords')\n",
        "nltk.download('wordnet')\n",
        "nltk.download('punkt')\n",
        "from nltk import wordnet\n",
        "from nltk.corpus import stopwords\n",
        "from nltk import PorterStemmer, WordNetLemmatizer\n",
        "from textblob import Word\n",
        "from nltk.tokenize import sent_tokenize, word_tokenize\n",
        "\n",
        "# Importing Models\n",
        "from sklearn.linear_model import LogisticRegression\n",
        "from sklearn.neighbors import KNeighborsClassifier\n",
        "from sklearn.ensemble import RandomForestClassifier\n",
        "from sklearn.naive_bayes import MultinomialNB\n",
        "from sklearn.neural_network import MLPClassifier\n",
        "from sklearn.ensemble import ExtraTreesClassifier\n",
        "from sklearn.ensemble import GradientBoostingClassifier\n",
        "from sklearn.ensemble import AdaBoostClassifier\n",
        "from xgboost.sklearn import XGBClassifier\n",
        "from sklearn.svm import SVC\n",
        "\n",
        "# Importing Evaluation matrces\n",
        "from sklearn.metrics import accuracy_score,precision_score,recall_score,f1_score,confusion_matrix,classification_report, plot_confusion_matrix"
      ]
    },
    {
      "cell_type": "code",
      "execution_count": null,
      "metadata": {
        "colab": {
          "base_uri": "https://localhost:8080/"
        },
        "id": "CupRIOr6756w",
        "outputId": "32abee80-3e05-4eb0-b8df-c9294aff563d"
      },
      "outputs": [
        {
          "output_type": "stream",
          "name": "stdout",
          "text": [
            "(8816, 50)\n",
            "0    8331\n",
            "1     485\n",
            "Name: pass, dtype: int64\n"
          ]
        }
      ],
      "source": [
        "path = \"./sample_data/data.csv\"\n",
        "Comments = pd.read_csv(path)\n",
        "Comments = Comments.loc[Comments[\"reviews\"].notna()]\n",
        "Comments = Comments.drop(['Unnamed: 0'],axis=1)\n",
        "print(Comments.shape)\n",
        "print(Comments['pass'].value_counts())"
      ]
    },
    {
      "cell_type": "markdown",
      "metadata": {
        "id": "WhYlNVM1zAIi"
      },
      "source": [
        "##preprocessing"
      ]
    },
    {
      "cell_type": "code",
      "execution_count": null,
      "metadata": {
        "id": "J57DtXkKFzbL"
      },
      "outputs": [],
      "source": [
        "def preprocess_text(sen):\n",
        "    sentence = re.sub('(https?:\\/\\/)?([\\da-z\\.-]+)\\.([a-z\\.]{2,6})([\\/\\w \\.-]*)',' ',str(sen)) # Removing html tags\n",
        "    sentence = re.sub('[^a-zA-Z]', ' ', sentence) # Remove punctuations and numbers\n",
        "    sentence = re.sub(r\"\\s+[a-zA-Z]\\s+\", ' ', sentence) # Single character removal\n",
        "    sentence = re.sub(r'\\s+', ' ', sentence) # Removing multiple spaces\n",
        "    sentence = sentence.replace(\"ain't\", \"am not\").replace(\"aren't\", \"are not\")\n",
        "    sentence = ' '.join(text.lower() for text in sentence.split(' ')) # Lowering cases\n",
        "    sw = stopwords.words('english')\n",
        "    sentence = ' '.join(text for text in sentence.split() if text not in sw) #removing stopwords\n",
        "    #sentence = ' '.join(text.lemmatize() for text in sentence.split()) #lemmatization\n",
        "    return sentence\n",
        "\n",
        "Comments['reviews'] = Comments.reviews.apply(preprocess_text)"
      ]
    },
    {
      "cell_type": "code",
      "execution_count": null,
      "metadata": {
        "colab": {
          "base_uri": "https://localhost:8080/"
        },
        "id": "5lzjDbXdLAeu",
        "outputId": "892325a5-416d-40aa-ce8d-ad326e8c34ce"
      },
      "outputs": [
        {
          "output_type": "stream",
          "name": "stdout",
          "text": [
            "       text_length\n",
            "count  8816.000000\n",
            "mean     13.051384\n",
            "std      16.663748\n",
            "min       1.000000\n",
            "10%       2.000000\n",
            "20%       3.000000\n",
            "30%       5.000000\n",
            "40%       7.000000\n",
            "50%       9.000000\n",
            "60%      11.000000\n",
            "70%      14.000000\n",
            "80%      19.000000\n",
            "90%      29.000000\n",
            "max     457.000000\n"
          ]
        }
      ],
      "source": [
        "#identifying the prober max length\n",
        "\n",
        "len_data = pd.DataFrame()\n",
        "len_data['text_length'] = Comments['reviews'].apply(lambda x: len(x.split(\" \")))\n",
        "Comments[\"text_length\"] = len_data[\"text_length\"]\n",
        "\n",
        "print(len_data.describe(percentiles=[0.1,0.2,0.3,0.4,0.5,0.6,0.7,0.8,0.9]))\n",
        "\n",
        "maxlen = 15 # based on the percentiles"
      ]
    },
    {
      "cell_type": "markdown",
      "metadata": {
        "id": "ZWNKY-uYEafo"
      },
      "source": [
        "##tokenisation"
      ]
    },
    {
      "cell_type": "code",
      "execution_count": null,
      "metadata": {
        "id": "7-UDJO3KbQE9"
      },
      "outputs": [],
      "source": [
        "X = Comments.reviews\n",
        "y = Comments['pass']"
      ]
    },
    {
      "cell_type": "markdown",
      "metadata": {
        "id": "Nw57dwFMFHQp"
      },
      "source": [
        "###standard tokenisation"
      ]
    },
    {
      "cell_type": "code",
      "execution_count": null,
      "metadata": {
        "id": "HISlm_-lcgnb"
      },
      "outputs": [],
      "source": [
        "tokenizer = Tokenizer()\n",
        "tokenizer.fit_on_texts(X)\n",
        "\n",
        "X = tokenizer.texts_to_sequences(X)\n",
        "vocab_size = len(tokenizer.word_index) + 1\n",
        "X = pad_sequences(X, padding='post', maxlen=maxlen)"
      ]
    },
    {
      "cell_type": "code",
      "execution_count": null,
      "metadata": {
        "colab": {
          "base_uri": "https://localhost:8080/"
        },
        "id": "EyS74Y_4su1F",
        "outputId": "f0753c23-98f0-41fe-adcc-9649728b7d48"
      },
      "outputs": [
        {
          "output_type": "stream",
          "name": "stdout",
          "text": [
            "***\n",
            "Number of unique words: 5518\n",
            "***\n"
          ]
        },
        {
          "output_type": "execute_result",
          "data": {
            "text/plain": [
              "array([[1296,  802,    1, ..., 5181,   81,    1],\n",
              "       [ 481,  717,  199, ...,  581,  199, 1767],\n",
              "       [ 179,  780,  184, ..., 5185, 1049,  582],\n",
              "       ...,\n",
              "       [   1, 1604,  984, ...,    0,    0,    0],\n",
              "       [   9,  308,   33, ...,    0,    0,    0],\n",
              "       [   1,  247,   18, ...,    0,    0,    0]], dtype=int32)"
            ]
          },
          "metadata": {},
          "execution_count": 8
        }
      ],
      "source": [
        "word_index=tokenizer.word_index\n",
        "print('***')\n",
        "print('Number of unique words:',len(word_index))\n",
        "print('***')\n",
        "X"
      ]
    },
    {
      "cell_type": "code",
      "execution_count": null,
      "metadata": {
        "colab": {
          "base_uri": "https://localhost:8080/"
        },
        "id": "jEKlOr_eEgB1",
        "outputId": "58290a7e-4836-4f9c-8851-e5f3da692ea0"
      },
      "outputs": [
        {
          "output_type": "execute_result",
          "data": {
            "text/html": [
              "\n",
              "  <div id=\"df-c9624b8f-386a-4c1c-bd6c-6204c4487aff\">\n",
              "    <div class=\"colab-df-container\">\n",
              "      <div>\n",
              "<style scoped>\n",
              "    .dataframe tbody tr th:only-of-type {\n",
              "        vertical-align: middle;\n",
              "    }\n",
              "\n",
              "    .dataframe tbody tr th {\n",
              "        vertical-align: top;\n",
              "    }\n",
              "\n",
              "    .dataframe thead th {\n",
              "        text-align: right;\n",
              "    }\n",
              "</style>\n",
              "<table border=\"1\" class=\"dataframe\">\n",
              "  <thead>\n",
              "    <tr style=\"text-align: right;\">\n",
              "      <th></th>\n",
              "      <th>0</th>\n",
              "      <th>1</th>\n",
              "      <th>2</th>\n",
              "      <th>3</th>\n",
              "      <th>4</th>\n",
              "      <th>5</th>\n",
              "      <th>6</th>\n",
              "      <th>7</th>\n",
              "      <th>8</th>\n",
              "      <th>9</th>\n",
              "      <th>10</th>\n",
              "      <th>11</th>\n",
              "      <th>12</th>\n",
              "      <th>13</th>\n",
              "      <th>14</th>\n",
              "    </tr>\n",
              "  </thead>\n",
              "  <tbody>\n",
              "    <tr>\n",
              "      <th>0</th>\n",
              "      <td>1296</td>\n",
              "      <td>802</td>\n",
              "      <td>1</td>\n",
              "      <td>1120</td>\n",
              "      <td>350</td>\n",
              "      <td>51</td>\n",
              "      <td>46</td>\n",
              "      <td>5180</td>\n",
              "      <td>498</td>\n",
              "      <td>140</td>\n",
              "      <td>259</td>\n",
              "      <td>122</td>\n",
              "      <td>5181</td>\n",
              "      <td>81</td>\n",
              "      <td>1</td>\n",
              "    </tr>\n",
              "    <tr>\n",
              "      <th>1</th>\n",
              "      <td>481</td>\n",
              "      <td>717</td>\n",
              "      <td>199</td>\n",
              "      <td>318</td>\n",
              "      <td>5184</td>\n",
              "      <td>1297</td>\n",
              "      <td>233</td>\n",
              "      <td>32</td>\n",
              "      <td>627</td>\n",
              "      <td>717</td>\n",
              "      <td>173</td>\n",
              "      <td>147</td>\n",
              "      <td>581</td>\n",
              "      <td>199</td>\n",
              "      <td>1767</td>\n",
              "    </tr>\n",
              "    <tr>\n",
              "      <th>2</th>\n",
              "      <td>179</td>\n",
              "      <td>780</td>\n",
              "      <td>184</td>\n",
              "      <td>1120</td>\n",
              "      <td>2378</td>\n",
              "      <td>1077</td>\n",
              "      <td>466</td>\n",
              "      <td>78</td>\n",
              "      <td>68</td>\n",
              "      <td>342</td>\n",
              "      <td>64</td>\n",
              "      <td>179</td>\n",
              "      <td>5185</td>\n",
              "      <td>1049</td>\n",
              "      <td>582</td>\n",
              "    </tr>\n",
              "    <tr>\n",
              "      <th>3</th>\n",
              "      <td>5186</td>\n",
              "      <td>2379</td>\n",
              "      <td>1049</td>\n",
              "      <td>99</td>\n",
              "      <td>5187</td>\n",
              "      <td>68</td>\n",
              "      <td>733</td>\n",
              "      <td>0</td>\n",
              "      <td>0</td>\n",
              "      <td>0</td>\n",
              "      <td>0</td>\n",
              "      <td>0</td>\n",
              "      <td>0</td>\n",
              "      <td>0</td>\n",
              "      <td>0</td>\n",
              "    </tr>\n",
              "    <tr>\n",
              "      <th>4</th>\n",
              "      <td>9</td>\n",
              "      <td>1</td>\n",
              "      <td>491</td>\n",
              "      <td>222</td>\n",
              "      <td>424</td>\n",
              "      <td>65</td>\n",
              "      <td>203</td>\n",
              "      <td>0</td>\n",
              "      <td>0</td>\n",
              "      <td>0</td>\n",
              "      <td>0</td>\n",
              "      <td>0</td>\n",
              "      <td>0</td>\n",
              "      <td>0</td>\n",
              "      <td>0</td>\n",
              "    </tr>\n",
              "    <tr>\n",
              "      <th>...</th>\n",
              "      <td>...</td>\n",
              "      <td>...</td>\n",
              "      <td>...</td>\n",
              "      <td>...</td>\n",
              "      <td>...</td>\n",
              "      <td>...</td>\n",
              "      <td>...</td>\n",
              "      <td>...</td>\n",
              "      <td>...</td>\n",
              "      <td>...</td>\n",
              "      <td>...</td>\n",
              "      <td>...</td>\n",
              "      <td>...</td>\n",
              "      <td>...</td>\n",
              "      <td>...</td>\n",
              "    </tr>\n",
              "    <tr>\n",
              "      <th>8811</th>\n",
              "      <td>381</td>\n",
              "      <td>8</td>\n",
              "      <td>1</td>\n",
              "      <td>76</td>\n",
              "      <td>62</td>\n",
              "      <td>27</td>\n",
              "      <td>60</td>\n",
              "      <td>54</td>\n",
              "      <td>0</td>\n",
              "      <td>0</td>\n",
              "      <td>0</td>\n",
              "      <td>0</td>\n",
              "      <td>0</td>\n",
              "      <td>0</td>\n",
              "      <td>0</td>\n",
              "    </tr>\n",
              "    <tr>\n",
              "      <th>8812</th>\n",
              "      <td>963</td>\n",
              "      <td>230</td>\n",
              "      <td>5061</td>\n",
              "      <td>1</td>\n",
              "      <td>1</td>\n",
              "      <td>11</td>\n",
              "      <td>85</td>\n",
              "      <td>12</td>\n",
              "      <td>27</td>\n",
              "      <td>0</td>\n",
              "      <td>0</td>\n",
              "      <td>0</td>\n",
              "      <td>0</td>\n",
              "      <td>0</td>\n",
              "      <td>0</td>\n",
              "    </tr>\n",
              "    <tr>\n",
              "      <th>8813</th>\n",
              "      <td>1</td>\n",
              "      <td>1604</td>\n",
              "      <td>984</td>\n",
              "      <td>1336</td>\n",
              "      <td>944</td>\n",
              "      <td>689</td>\n",
              "      <td>1586</td>\n",
              "      <td>0</td>\n",
              "      <td>0</td>\n",
              "      <td>0</td>\n",
              "      <td>0</td>\n",
              "      <td>0</td>\n",
              "      <td>0</td>\n",
              "      <td>0</td>\n",
              "      <td>0</td>\n",
              "    </tr>\n",
              "    <tr>\n",
              "      <th>8814</th>\n",
              "      <td>9</td>\n",
              "      <td>308</td>\n",
              "      <td>33</td>\n",
              "      <td>14</td>\n",
              "      <td>1056</td>\n",
              "      <td>140</td>\n",
              "      <td>94</td>\n",
              "      <td>343</td>\n",
              "      <td>0</td>\n",
              "      <td>0</td>\n",
              "      <td>0</td>\n",
              "      <td>0</td>\n",
              "      <td>0</td>\n",
              "      <td>0</td>\n",
              "      <td>0</td>\n",
              "    </tr>\n",
              "    <tr>\n",
              "      <th>8815</th>\n",
              "      <td>1</td>\n",
              "      <td>247</td>\n",
              "      <td>18</td>\n",
              "      <td>1691</td>\n",
              "      <td>678</td>\n",
              "      <td>279</td>\n",
              "      <td>5062</td>\n",
              "      <td>236</td>\n",
              "      <td>0</td>\n",
              "      <td>0</td>\n",
              "      <td>0</td>\n",
              "      <td>0</td>\n",
              "      <td>0</td>\n",
              "      <td>0</td>\n",
              "      <td>0</td>\n",
              "    </tr>\n",
              "  </tbody>\n",
              "</table>\n",
              "<p>8816 rows × 15 columns</p>\n",
              "</div>\n",
              "      <button class=\"colab-df-convert\" onclick=\"convertToInteractive('df-c9624b8f-386a-4c1c-bd6c-6204c4487aff')\"\n",
              "              title=\"Convert this dataframe to an interactive table.\"\n",
              "              style=\"display:none;\">\n",
              "        \n",
              "  <svg xmlns=\"http://www.w3.org/2000/svg\" height=\"24px\"viewBox=\"0 0 24 24\"\n",
              "       width=\"24px\">\n",
              "    <path d=\"M0 0h24v24H0V0z\" fill=\"none\"/>\n",
              "    <path d=\"M18.56 5.44l.94 2.06.94-2.06 2.06-.94-2.06-.94-.94-2.06-.94 2.06-2.06.94zm-11 1L8.5 8.5l.94-2.06 2.06-.94-2.06-.94L8.5 2.5l-.94 2.06-2.06.94zm10 10l.94 2.06.94-2.06 2.06-.94-2.06-.94-.94-2.06-.94 2.06-2.06.94z\"/><path d=\"M17.41 7.96l-1.37-1.37c-.4-.4-.92-.59-1.43-.59-.52 0-1.04.2-1.43.59L10.3 9.45l-7.72 7.72c-.78.78-.78 2.05 0 2.83L4 21.41c.39.39.9.59 1.41.59.51 0 1.02-.2 1.41-.59l7.78-7.78 2.81-2.81c.8-.78.8-2.07 0-2.86zM5.41 20L4 18.59l7.72-7.72 1.47 1.35L5.41 20z\"/>\n",
              "  </svg>\n",
              "      </button>\n",
              "      \n",
              "  <style>\n",
              "    .colab-df-container {\n",
              "      display:flex;\n",
              "      flex-wrap:wrap;\n",
              "      gap: 12px;\n",
              "    }\n",
              "\n",
              "    .colab-df-convert {\n",
              "      background-color: #E8F0FE;\n",
              "      border: none;\n",
              "      border-radius: 50%;\n",
              "      cursor: pointer;\n",
              "      display: none;\n",
              "      fill: #1967D2;\n",
              "      height: 32px;\n",
              "      padding: 0 0 0 0;\n",
              "      width: 32px;\n",
              "    }\n",
              "\n",
              "    .colab-df-convert:hover {\n",
              "      background-color: #E2EBFA;\n",
              "      box-shadow: 0px 1px 2px rgba(60, 64, 67, 0.3), 0px 1px 3px 1px rgba(60, 64, 67, 0.15);\n",
              "      fill: #174EA6;\n",
              "    }\n",
              "\n",
              "    [theme=dark] .colab-df-convert {\n",
              "      background-color: #3B4455;\n",
              "      fill: #D2E3FC;\n",
              "    }\n",
              "\n",
              "    [theme=dark] .colab-df-convert:hover {\n",
              "      background-color: #434B5C;\n",
              "      box-shadow: 0px 1px 3px 1px rgba(0, 0, 0, 0.15);\n",
              "      filter: drop-shadow(0px 1px 2px rgba(0, 0, 0, 0.3));\n",
              "      fill: #FFFFFF;\n",
              "    }\n",
              "  </style>\n",
              "\n",
              "      <script>\n",
              "        const buttonEl =\n",
              "          document.querySelector('#df-c9624b8f-386a-4c1c-bd6c-6204c4487aff button.colab-df-convert');\n",
              "        buttonEl.style.display =\n",
              "          google.colab.kernel.accessAllowed ? 'block' : 'none';\n",
              "\n",
              "        async function convertToInteractive(key) {\n",
              "          const element = document.querySelector('#df-c9624b8f-386a-4c1c-bd6c-6204c4487aff');\n",
              "          const dataTable =\n",
              "            await google.colab.kernel.invokeFunction('convertToInteractive',\n",
              "                                                     [key], {});\n",
              "          if (!dataTable) return;\n",
              "\n",
              "          const docLinkHtml = 'Like what you see? Visit the ' +\n",
              "            '<a target=\"_blank\" href=https://colab.research.google.com/notebooks/data_table.ipynb>data table notebook</a>'\n",
              "            + ' to learn more about interactive tables.';\n",
              "          element.innerHTML = '';\n",
              "          dataTable['output_type'] = 'display_data';\n",
              "          await google.colab.output.renderOutput(dataTable, element);\n",
              "          const docLink = document.createElement('div');\n",
              "          docLink.innerHTML = docLinkHtml;\n",
              "          element.appendChild(docLink);\n",
              "        }\n",
              "      </script>\n",
              "    </div>\n",
              "  </div>\n",
              "  "
            ],
            "text/plain": [
              "        0     1     2     3     4     5     6     7    8    9    10   11  \\\n",
              "0     1296   802     1  1120   350    51    46  5180  498  140  259  122   \n",
              "1      481   717   199   318  5184  1297   233    32  627  717  173  147   \n",
              "2      179   780   184  1120  2378  1077   466    78   68  342   64  179   \n",
              "3     5186  2379  1049    99  5187    68   733     0    0    0    0    0   \n",
              "4        9     1   491   222   424    65   203     0    0    0    0    0   \n",
              "...    ...   ...   ...   ...   ...   ...   ...   ...  ...  ...  ...  ...   \n",
              "8811   381     8     1    76    62    27    60    54    0    0    0    0   \n",
              "8812   963   230  5061     1     1    11    85    12   27    0    0    0   \n",
              "8813     1  1604   984  1336   944   689  1586     0    0    0    0    0   \n",
              "8814     9   308    33    14  1056   140    94   343    0    0    0    0   \n",
              "8815     1   247    18  1691   678   279  5062   236    0    0    0    0   \n",
              "\n",
              "        12    13    14  \n",
              "0     5181    81     1  \n",
              "1      581   199  1767  \n",
              "2     5185  1049   582  \n",
              "3        0     0     0  \n",
              "4        0     0     0  \n",
              "...    ...   ...   ...  \n",
              "8811     0     0     0  \n",
              "8812     0     0     0  \n",
              "8813     0     0     0  \n",
              "8814     0     0     0  \n",
              "8815     0     0     0  \n",
              "\n",
              "[8816 rows x 15 columns]"
            ]
          },
          "metadata": {},
          "execution_count": 9
        }
      ],
      "source": [
        "reviews = pd.DataFrame(X)\n",
        "reviews"
      ]
    },
    {
      "cell_type": "code",
      "execution_count": null,
      "metadata": {
        "colab": {
          "base_uri": "https://localhost:8080/"
        },
        "id": "TyJ1kc9w26On",
        "outputId": "d6ff56f3-bd4a-4e54-c5c6-3b853cd67fcc"
      },
      "outputs": [
        {
          "output_type": "stream",
          "name": "stdout",
          "text": [
            "0\n",
            "1\n",
            "2\n",
            "3\n",
            "4\n",
            "5\n",
            "6\n",
            "7\n",
            "8\n",
            "9\n",
            "10\n",
            "11\n",
            "12\n",
            "13\n",
            "14\n",
            "1_nat_com\n",
            "2_nat_com\n",
            "1_neg_com\n",
            "2_neg_com\n",
            "1_pos_com\n",
            "2_pos_com\n",
            "1_comments\n",
            "2_comments\n",
            "1_likes\n",
            "2_likes\n",
            "1_rep_post\n",
            "2_rep_post\n",
            "1_rep_rec\n",
            "2_rep_rec\n",
            "1_neg_rep_post\n",
            "2_neg_rep_post\n",
            "1_pos_rep_post\n",
            "2_pos_rep_post\n",
            "1_nat_rep_post\n",
            "2_nat_rep_post\n",
            "1_neg_rep_rec\n",
            "2_neg_rep_rec\n",
            "1_pos_rep_rec\n",
            "2_pos_rep_rec\n",
            "1_nat_rep_rec\n",
            "2_nat_rep_rec\n",
            "1_len_rep_rec\n",
            "2_len_rep_rec\n",
            "1_len_com\n",
            "2_len_com\n",
            "pass\n",
            "1_pos_com_perc\n",
            "1_nat_com_perc\n",
            "1_neg_com_perc\n",
            "1_pos_rep_post_perc\n",
            "1_nat_rep_post_perc\n",
            "1_neg_rep_post_perc\n",
            "1_pos_rep_rec_perc\n",
            "1_nat_rep_rec_perc\n",
            "1_neg_rep_rec_perc\n",
            "2_pos_com_perc\n",
            "2_nat_com_perc\n",
            "2_neg_com_perc\n",
            "2_pos_rep_post_perc\n",
            "2_nat_rep_post_perc\n",
            "2_neg_rep_post_perc\n",
            "2_pos_rep_rec_perc\n",
            "2_nat_rep_rec_perc\n",
            "2_neg_rep_rec_perc\n",
            "text_length\n",
            "        0     1     2     3     4     5     6     7    8    9    10   11  \\\n",
            "0     1296   802     1  1120   350    51    46  5180  498  140  259  122   \n",
            "1      481   717   199   318  5184  1297   233    32  627  717  173  147   \n",
            "2      179   780   184  1120  2378  1077   466    78   68  342   64  179   \n",
            "3     5186  2379  1049    99  5187    68   733     0    0    0    0    0   \n",
            "4        9     1   491   222   424    65   203     0    0    0    0    0   \n",
            "...    ...   ...   ...   ...   ...   ...   ...   ...  ...  ...  ...  ...   \n",
            "8811   381     8     1    76    62    27    60    54    0    0    0    0   \n",
            "8812   963   230  5061     1     1    11    85    12   27    0    0    0   \n",
            "8813     1  1604   984  1336   944   689  1586     0    0    0    0    0   \n",
            "8814     9   308    33    14  1056   140    94   343    0    0    0    0   \n",
            "8815     1   247    18  1691   678   279  5062   236    0    0    0    0   \n",
            "\n",
            "        12    13    14  \n",
            "0     5181    81     1  \n",
            "1      581   199  1767  \n",
            "2     5185  1049   582  \n",
            "3        0     0     0  \n",
            "4        0     0     0  \n",
            "...    ...   ...   ...  \n",
            "8811     0     0     0  \n",
            "8812     0     0     0  \n",
            "8813     0     0     0  \n",
            "8814     0     0     0  \n",
            "8815     0     0     0  \n",
            "\n",
            "[8816 rows x 15 columns]\n"
          ]
        }
      ],
      "source": [
        "Comments = pd.concat([reviews, Comments], axis=1)\n",
        "Comments.drop(['reviews'], axis=1, inplace=True)\n",
        "for i in Comments.columns:\n",
        "  print(i)\n",
        "print(reviews)"
      ]
    },
    {
      "cell_type": "markdown",
      "metadata": {
        "id": "280yfmLWrElG"
      },
      "source": [
        "## upsampling training set only with SMOTE"
      ]
    },
    {
      "cell_type": "code",
      "execution_count": null,
      "metadata": {
        "id": "DGNCORjO98IE"
      },
      "outputs": [],
      "source": [
        "from sklearn.utils import shuffle\n",
        "Comments = shuffle(Comments)"
      ]
    },
    {
      "cell_type": "code",
      "execution_count": null,
      "metadata": {
        "id": "FimeO_5X7E5h"
      },
      "outputs": [],
      "source": [
        "X = Comments.drop(['pass'], axis=1)#.values\n",
        "y = Comments['pass']#.values"
      ]
    },
    {
      "cell_type": "code",
      "execution_count": null,
      "metadata": {
        "colab": {
          "base_uri": "https://localhost:8080/"
        },
        "id": "py3exEkJMVib",
        "outputId": "218656c7-08e2-4429-d3f3-76258107ffa3"
      },
      "outputs": [
        {
          "output_type": "execute_result",
          "data": {
            "text/plain": [
              "((7934, 64), (7934,), (882, 64), (882,))"
            ]
          },
          "metadata": {},
          "execution_count": 13
        }
      ],
      "source": [
        "X_train, X_test, y_train, y_test = train_test_split(X, y, test_size=0.10, random_state=42, stratify=y)  #stratify=y equalise the number of observations in both Train and Test sets\n",
        "X_train.shape, y_train.shape, X_test.shape,  y_test.shape\n",
        "#len(X_train), len(X_test), len(y_train),len(y_test)"
      ]
    },
    {
      "cell_type": "code",
      "execution_count": null,
      "metadata": {
        "colab": {
          "base_uri": "https://localhost:8080/"
        },
        "id": "beo4i3barElI",
        "outputId": "36a9ef77-de79-4bc0-842d-8ce20c3a6b6e"
      },
      "outputs": [
        {
          "output_type": "stream",
          "name": "stdout",
          "text": [
            "(7934, 64)\n",
            "0    7498\n",
            "1     436\n",
            "Name: pass, dtype: int64\n"
          ]
        }
      ],
      "source": [
        "print(X_train.shape)\n",
        "print(y_train.value_counts())"
      ]
    },
    {
      "cell_type": "code",
      "execution_count": null,
      "metadata": {
        "colab": {
          "base_uri": "https://localhost:8080/"
        },
        "id": "TaHYbWpCLSn6",
        "outputId": "94b70493-76f7-446f-d7b6-0ab8d84e808f"
      },
      "outputs": [
        {
          "output_type": "stream",
          "name": "stdout",
          "text": [
            "(14996, 64)\n",
            "0    7498\n",
            "1    7498\n",
            "Name: pass, dtype: int64\n"
          ]
        }
      ],
      "source": [
        "from imblearn.over_sampling import SMOTE\n",
        "sampler = SMOTE()\n",
        "X_train, y_train = sampler.fit_resample(X_train, y_train)\n",
        "print(X_train.shape)\n",
        "print(y_train.value_counts())"
      ]
    },
    {
      "cell_type": "code",
      "execution_count": null,
      "metadata": {
        "colab": {
          "base_uri": "https://localhost:8080/"
        },
        "id": "0uo_bViArElK",
        "outputId": "7743a7e2-3ba4-4b7c-84b9-4c6b1db5a5ba"
      },
      "outputs": [
        {
          "output_type": "execute_result",
          "data": {
            "text/plain": [
              "((14996, 64), (14996,), (882, 64), (882,))"
            ]
          },
          "metadata": {},
          "execution_count": 16
        }
      ],
      "source": [
        "X_train.shape, y_train.shape, X_test.shape,   y_test.shape"
      ]
    },
    {
      "cell_type": "code",
      "execution_count": null,
      "metadata": {
        "id": "ZpRv85bL-zsg"
      },
      "outputs": [],
      "source": [
        "#selecting featuree using Gini-importance\n",
        "\n",
        "def importance_features(df):\n",
        "    df_importance =df\n",
        "    y = df_importance['pass'].values\n",
        "    X = df_importance.drop('pass',axis=1).values\n",
        "    clf = RandomForestClassifier(n_estimators=100, max_depth=2,random_state=0, class_weight=\"balanced\")\n",
        "    clf.fit(X, y)\n",
        "    df_importance=df_importance.drop(['pass'],axis=1)\n",
        "    clf.fit(X, y)\n",
        "    feats = {}\n",
        "    for feature, importance in zip(df_importance.columns, clf.feature_importances_):\n",
        "        feats[feature] = importance\n",
        "        \n",
        "    importances = pd.DataFrame.from_dict(feats, orient='index').rename(columns={0: 'Gini-importance'})\n",
        "    importances_first_half=importances.sort_values(by='Gini-importance',\n",
        "                                                   ascending=False).reset_index().rename(columns={\"index\":'Feature',\n",
        "                                                                                                  'Gini-importance':'Importance'}).head(int(importances.shape[0]/3))\n",
        "    importances_first_half=importances_first_half['Feature'].tolist()\n",
        "    Completion_column='pass'\n",
        "    #LearnerID='learner_id'\n",
        "    importances_first_half.append(Completion_column) \n",
        "    #importances_first_half.append(LearnerID) \n",
        "    df2=df[importances_first_half]\n",
        "    Fea_important=importances.sort_values(by='Gini-importance', ascending=False)\n",
        "    return df2"
      ]
    },
    {
      "cell_type": "code",
      "execution_count": null,
      "metadata": {
        "colab": {
          "base_uri": "https://localhost:8080/"
        },
        "id": "jMXBm_tOChnz",
        "outputId": "287c5beb-db68-4736-da24-e2d76843001c"
      },
      "outputs": [
        {
          "output_type": "stream",
          "name": "stdout",
          "text": [
            "(8816, 22)\n"
          ]
        }
      ],
      "source": [
        "StudentData2 = Comments\n",
        "StudentData_importance = importance_features(StudentData2)\n",
        "print(StudentData_importance.shape)"
      ]
    },
    {
      "cell_type": "code",
      "execution_count": null,
      "metadata": {
        "colab": {
          "base_uri": "https://localhost:8080/"
        },
        "id": "54raeGSrC8qD",
        "outputId": "2634395d-8ae8-4d96-8947-eb83fb65a2f8"
      },
      "outputs": [
        {
          "output_type": "execute_result",
          "data": {
            "text/html": [
              "\n",
              "  <div id=\"df-2562836f-0e5f-4e81-b632-fb62a1ad43b8\">\n",
              "    <div class=\"colab-df-container\">\n",
              "      <div>\n",
              "<style scoped>\n",
              "    .dataframe tbody tr th:only-of-type {\n",
              "        vertical-align: middle;\n",
              "    }\n",
              "\n",
              "    .dataframe tbody tr th {\n",
              "        vertical-align: top;\n",
              "    }\n",
              "\n",
              "    .dataframe thead th {\n",
              "        text-align: right;\n",
              "    }\n",
              "</style>\n",
              "<table border=\"1\" class=\"dataframe\">\n",
              "  <thead>\n",
              "    <tr style=\"text-align: right;\">\n",
              "      <th></th>\n",
              "      <th>2_len_com</th>\n",
              "      <th>2_comments</th>\n",
              "      <th>2_likes</th>\n",
              "      <th>2_pos_com</th>\n",
              "      <th>6</th>\n",
              "      <th>2_pos_com_perc</th>\n",
              "      <th>4</th>\n",
              "      <th>8</th>\n",
              "      <th>text_length</th>\n",
              "      <th>7</th>\n",
              "      <th>...</th>\n",
              "      <th>12</th>\n",
              "      <th>11</th>\n",
              "      <th>5</th>\n",
              "      <th>2_pos_rep_rec_perc</th>\n",
              "      <th>14</th>\n",
              "      <th>2</th>\n",
              "      <th>9</th>\n",
              "      <th>2_pos_rep_post</th>\n",
              "      <th>10</th>\n",
              "      <th>pass</th>\n",
              "    </tr>\n",
              "  </thead>\n",
              "  <tbody>\n",
              "    <tr>\n",
              "      <th>6408</th>\n",
              "      <td>0</td>\n",
              "      <td>0</td>\n",
              "      <td>0</td>\n",
              "      <td>0</td>\n",
              "      <td>0</td>\n",
              "      <td>0.0</td>\n",
              "      <td>0</td>\n",
              "      <td>0</td>\n",
              "      <td>3</td>\n",
              "      <td>0</td>\n",
              "      <td>...</td>\n",
              "      <td>0</td>\n",
              "      <td>0</td>\n",
              "      <td>0</td>\n",
              "      <td>0.0</td>\n",
              "      <td>0</td>\n",
              "      <td>41</td>\n",
              "      <td>0</td>\n",
              "      <td>0</td>\n",
              "      <td>0</td>\n",
              "      <td>0</td>\n",
              "    </tr>\n",
              "    <tr>\n",
              "      <th>5823</th>\n",
              "      <td>1856</td>\n",
              "      <td>5</td>\n",
              "      <td>10</td>\n",
              "      <td>5</td>\n",
              "      <td>0</td>\n",
              "      <td>1.0</td>\n",
              "      <td>19</td>\n",
              "      <td>0</td>\n",
              "      <td>5</td>\n",
              "      <td>0</td>\n",
              "      <td>...</td>\n",
              "      <td>0</td>\n",
              "      <td>0</td>\n",
              "      <td>0</td>\n",
              "      <td>0.8</td>\n",
              "      <td>0</td>\n",
              "      <td>356</td>\n",
              "      <td>0</td>\n",
              "      <td>16</td>\n",
              "      <td>0</td>\n",
              "      <td>0</td>\n",
              "    </tr>\n",
              "    <tr>\n",
              "      <th>7915</th>\n",
              "      <td>0</td>\n",
              "      <td>0</td>\n",
              "      <td>0</td>\n",
              "      <td>0</td>\n",
              "      <td>0</td>\n",
              "      <td>0.0</td>\n",
              "      <td>0</td>\n",
              "      <td>0</td>\n",
              "      <td>1</td>\n",
              "      <td>0</td>\n",
              "      <td>...</td>\n",
              "      <td>0</td>\n",
              "      <td>0</td>\n",
              "      <td>0</td>\n",
              "      <td>0.0</td>\n",
              "      <td>0</td>\n",
              "      <td>0</td>\n",
              "      <td>0</td>\n",
              "      <td>0</td>\n",
              "      <td>0</td>\n",
              "      <td>0</td>\n",
              "    </tr>\n",
              "    <tr>\n",
              "      <th>5234</th>\n",
              "      <td>0</td>\n",
              "      <td>0</td>\n",
              "      <td>0</td>\n",
              "      <td>0</td>\n",
              "      <td>0</td>\n",
              "      <td>0.0</td>\n",
              "      <td>0</td>\n",
              "      <td>0</td>\n",
              "      <td>3</td>\n",
              "      <td>0</td>\n",
              "      <td>...</td>\n",
              "      <td>0</td>\n",
              "      <td>0</td>\n",
              "      <td>0</td>\n",
              "      <td>0.0</td>\n",
              "      <td>0</td>\n",
              "      <td>2</td>\n",
              "      <td>0</td>\n",
              "      <td>0</td>\n",
              "      <td>0</td>\n",
              "      <td>0</td>\n",
              "    </tr>\n",
              "    <tr>\n",
              "      <th>8688</th>\n",
              "      <td>2735</td>\n",
              "      <td>3</td>\n",
              "      <td>6</td>\n",
              "      <td>3</td>\n",
              "      <td>367</td>\n",
              "      <td>1.0</td>\n",
              "      <td>334</td>\n",
              "      <td>62</td>\n",
              "      <td>18</td>\n",
              "      <td>941</td>\n",
              "      <td>...</td>\n",
              "      <td>37</td>\n",
              "      <td>17</td>\n",
              "      <td>275</td>\n",
              "      <td>0.0</td>\n",
              "      <td>166</td>\n",
              "      <td>103</td>\n",
              "      <td>203</td>\n",
              "      <td>5</td>\n",
              "      <td>1</td>\n",
              "      <td>1</td>\n",
              "    </tr>\n",
              "    <tr>\n",
              "      <th>...</th>\n",
              "      <td>...</td>\n",
              "      <td>...</td>\n",
              "      <td>...</td>\n",
              "      <td>...</td>\n",
              "      <td>...</td>\n",
              "      <td>...</td>\n",
              "      <td>...</td>\n",
              "      <td>...</td>\n",
              "      <td>...</td>\n",
              "      <td>...</td>\n",
              "      <td>...</td>\n",
              "      <td>...</td>\n",
              "      <td>...</td>\n",
              "      <td>...</td>\n",
              "      <td>...</td>\n",
              "      <td>...</td>\n",
              "      <td>...</td>\n",
              "      <td>...</td>\n",
              "      <td>...</td>\n",
              "      <td>...</td>\n",
              "      <td>...</td>\n",
              "    </tr>\n",
              "    <tr>\n",
              "      <th>3643</th>\n",
              "      <td>0</td>\n",
              "      <td>0</td>\n",
              "      <td>0</td>\n",
              "      <td>0</td>\n",
              "      <td>2265</td>\n",
              "      <td>0.0</td>\n",
              "      <td>2</td>\n",
              "      <td>2</td>\n",
              "      <td>10</td>\n",
              "      <td>4442</td>\n",
              "      <td>...</td>\n",
              "      <td>0</td>\n",
              "      <td>0</td>\n",
              "      <td>10</td>\n",
              "      <td>0.0</td>\n",
              "      <td>0</td>\n",
              "      <td>88</td>\n",
              "      <td>20</td>\n",
              "      <td>0</td>\n",
              "      <td>0</td>\n",
              "      <td>0</td>\n",
              "    </tr>\n",
              "    <tr>\n",
              "      <th>1838</th>\n",
              "      <td>0</td>\n",
              "      <td>0</td>\n",
              "      <td>0</td>\n",
              "      <td>0</td>\n",
              "      <td>158</td>\n",
              "      <td>0.0</td>\n",
              "      <td>141</td>\n",
              "      <td>58</td>\n",
              "      <td>27</td>\n",
              "      <td>952</td>\n",
              "      <td>...</td>\n",
              "      <td>304</td>\n",
              "      <td>2</td>\n",
              "      <td>50</td>\n",
              "      <td>0.0</td>\n",
              "      <td>5323</td>\n",
              "      <td>32</td>\n",
              "      <td>5322</td>\n",
              "      <td>0</td>\n",
              "      <td>1695</td>\n",
              "      <td>0</td>\n",
              "    </tr>\n",
              "    <tr>\n",
              "      <th>5508</th>\n",
              "      <td>0</td>\n",
              "      <td>0</td>\n",
              "      <td>0</td>\n",
              "      <td>0</td>\n",
              "      <td>7</td>\n",
              "      <td>0.0</td>\n",
              "      <td>143</td>\n",
              "      <td>0</td>\n",
              "      <td>7</td>\n",
              "      <td>0</td>\n",
              "      <td>...</td>\n",
              "      <td>0</td>\n",
              "      <td>0</td>\n",
              "      <td>2</td>\n",
              "      <td>0.0</td>\n",
              "      <td>0</td>\n",
              "      <td>36</td>\n",
              "      <td>0</td>\n",
              "      <td>0</td>\n",
              "      <td>0</td>\n",
              "      <td>0</td>\n",
              "    </tr>\n",
              "    <tr>\n",
              "      <th>6023</th>\n",
              "      <td>0</td>\n",
              "      <td>0</td>\n",
              "      <td>0</td>\n",
              "      <td>0</td>\n",
              "      <td>0</td>\n",
              "      <td>0.0</td>\n",
              "      <td>124</td>\n",
              "      <td>0</td>\n",
              "      <td>6</td>\n",
              "      <td>0</td>\n",
              "      <td>...</td>\n",
              "      <td>0</td>\n",
              "      <td>0</td>\n",
              "      <td>14</td>\n",
              "      <td>0.0</td>\n",
              "      <td>0</td>\n",
              "      <td>24</td>\n",
              "      <td>0</td>\n",
              "      <td>0</td>\n",
              "      <td>0</td>\n",
              "      <td>0</td>\n",
              "    </tr>\n",
              "    <tr>\n",
              "      <th>8389</th>\n",
              "      <td>0</td>\n",
              "      <td>0</td>\n",
              "      <td>0</td>\n",
              "      <td>0</td>\n",
              "      <td>253</td>\n",
              "      <td>0.0</td>\n",
              "      <td>49</td>\n",
              "      <td>37</td>\n",
              "      <td>45</td>\n",
              "      <td>631</td>\n",
              "      <td>...</td>\n",
              "      <td>184</td>\n",
              "      <td>2123</td>\n",
              "      <td>4845</td>\n",
              "      <td>0.0</td>\n",
              "      <td>639</td>\n",
              "      <td>108</td>\n",
              "      <td>181</td>\n",
              "      <td>0</td>\n",
              "      <td>753</td>\n",
              "      <td>1</td>\n",
              "    </tr>\n",
              "  </tbody>\n",
              "</table>\n",
              "<p>8816 rows × 22 columns</p>\n",
              "</div>\n",
              "      <button class=\"colab-df-convert\" onclick=\"convertToInteractive('df-2562836f-0e5f-4e81-b632-fb62a1ad43b8')\"\n",
              "              title=\"Convert this dataframe to an interactive table.\"\n",
              "              style=\"display:none;\">\n",
              "        \n",
              "  <svg xmlns=\"http://www.w3.org/2000/svg\" height=\"24px\"viewBox=\"0 0 24 24\"\n",
              "       width=\"24px\">\n",
              "    <path d=\"M0 0h24v24H0V0z\" fill=\"none\"/>\n",
              "    <path d=\"M18.56 5.44l.94 2.06.94-2.06 2.06-.94-2.06-.94-.94-2.06-.94 2.06-2.06.94zm-11 1L8.5 8.5l.94-2.06 2.06-.94-2.06-.94L8.5 2.5l-.94 2.06-2.06.94zm10 10l.94 2.06.94-2.06 2.06-.94-2.06-.94-.94-2.06-.94 2.06-2.06.94z\"/><path d=\"M17.41 7.96l-1.37-1.37c-.4-.4-.92-.59-1.43-.59-.52 0-1.04.2-1.43.59L10.3 9.45l-7.72 7.72c-.78.78-.78 2.05 0 2.83L4 21.41c.39.39.9.59 1.41.59.51 0 1.02-.2 1.41-.59l7.78-7.78 2.81-2.81c.8-.78.8-2.07 0-2.86zM5.41 20L4 18.59l7.72-7.72 1.47 1.35L5.41 20z\"/>\n",
              "  </svg>\n",
              "      </button>\n",
              "      \n",
              "  <style>\n",
              "    .colab-df-container {\n",
              "      display:flex;\n",
              "      flex-wrap:wrap;\n",
              "      gap: 12px;\n",
              "    }\n",
              "\n",
              "    .colab-df-convert {\n",
              "      background-color: #E8F0FE;\n",
              "      border: none;\n",
              "      border-radius: 50%;\n",
              "      cursor: pointer;\n",
              "      display: none;\n",
              "      fill: #1967D2;\n",
              "      height: 32px;\n",
              "      padding: 0 0 0 0;\n",
              "      width: 32px;\n",
              "    }\n",
              "\n",
              "    .colab-df-convert:hover {\n",
              "      background-color: #E2EBFA;\n",
              "      box-shadow: 0px 1px 2px rgba(60, 64, 67, 0.3), 0px 1px 3px 1px rgba(60, 64, 67, 0.15);\n",
              "      fill: #174EA6;\n",
              "    }\n",
              "\n",
              "    [theme=dark] .colab-df-convert {\n",
              "      background-color: #3B4455;\n",
              "      fill: #D2E3FC;\n",
              "    }\n",
              "\n",
              "    [theme=dark] .colab-df-convert:hover {\n",
              "      background-color: #434B5C;\n",
              "      box-shadow: 0px 1px 3px 1px rgba(0, 0, 0, 0.15);\n",
              "      filter: drop-shadow(0px 1px 2px rgba(0, 0, 0, 0.3));\n",
              "      fill: #FFFFFF;\n",
              "    }\n",
              "  </style>\n",
              "\n",
              "      <script>\n",
              "        const buttonEl =\n",
              "          document.querySelector('#df-2562836f-0e5f-4e81-b632-fb62a1ad43b8 button.colab-df-convert');\n",
              "        buttonEl.style.display =\n",
              "          google.colab.kernel.accessAllowed ? 'block' : 'none';\n",
              "\n",
              "        async function convertToInteractive(key) {\n",
              "          const element = document.querySelector('#df-2562836f-0e5f-4e81-b632-fb62a1ad43b8');\n",
              "          const dataTable =\n",
              "            await google.colab.kernel.invokeFunction('convertToInteractive',\n",
              "                                                     [key], {});\n",
              "          if (!dataTable) return;\n",
              "\n",
              "          const docLinkHtml = 'Like what you see? Visit the ' +\n",
              "            '<a target=\"_blank\" href=https://colab.research.google.com/notebooks/data_table.ipynb>data table notebook</a>'\n",
              "            + ' to learn more about interactive tables.';\n",
              "          element.innerHTML = '';\n",
              "          dataTable['output_type'] = 'display_data';\n",
              "          await google.colab.output.renderOutput(dataTable, element);\n",
              "          const docLink = document.createElement('div');\n",
              "          docLink.innerHTML = docLinkHtml;\n",
              "          element.appendChild(docLink);\n",
              "        }\n",
              "      </script>\n",
              "    </div>\n",
              "  </div>\n",
              "  "
            ],
            "text/plain": [
              "      2_len_com  2_comments  2_likes  2_pos_com     6  2_pos_com_perc    4  \\\n",
              "6408          0           0        0          0     0             0.0    0   \n",
              "5823       1856           5       10          5     0             1.0   19   \n",
              "7915          0           0        0          0     0             0.0    0   \n",
              "5234          0           0        0          0     0             0.0    0   \n",
              "8688       2735           3        6          3   367             1.0  334   \n",
              "...         ...         ...      ...        ...   ...             ...  ...   \n",
              "3643          0           0        0          0  2265             0.0    2   \n",
              "1838          0           0        0          0   158             0.0  141   \n",
              "5508          0           0        0          0     7             0.0  143   \n",
              "6023          0           0        0          0     0             0.0  124   \n",
              "8389          0           0        0          0   253             0.0   49   \n",
              "\n",
              "       8  text_length     7  ...   12    11     5  2_pos_rep_rec_perc    14  \\\n",
              "6408   0            3     0  ...    0     0     0                 0.0     0   \n",
              "5823   0            5     0  ...    0     0     0                 0.8     0   \n",
              "7915   0            1     0  ...    0     0     0                 0.0     0   \n",
              "5234   0            3     0  ...    0     0     0                 0.0     0   \n",
              "8688  62           18   941  ...   37    17   275                 0.0   166   \n",
              "...   ..          ...   ...  ...  ...   ...   ...                 ...   ...   \n",
              "3643   2           10  4442  ...    0     0    10                 0.0     0   \n",
              "1838  58           27   952  ...  304     2    50                 0.0  5323   \n",
              "5508   0            7     0  ...    0     0     2                 0.0     0   \n",
              "6023   0            6     0  ...    0     0    14                 0.0     0   \n",
              "8389  37           45   631  ...  184  2123  4845                 0.0   639   \n",
              "\n",
              "        2     9  2_pos_rep_post    10  pass  \n",
              "6408   41     0               0     0     0  \n",
              "5823  356     0              16     0     0  \n",
              "7915    0     0               0     0     0  \n",
              "5234    2     0               0     0     0  \n",
              "8688  103   203               5     1     1  \n",
              "...   ...   ...             ...   ...   ...  \n",
              "3643   88    20               0     0     0  \n",
              "1838   32  5322               0  1695     0  \n",
              "5508   36     0               0     0     0  \n",
              "6023   24     0               0     0     0  \n",
              "8389  108   181               0   753     1  \n",
              "\n",
              "[8816 rows x 22 columns]"
            ]
          },
          "metadata": {},
          "execution_count": 19
        }
      ],
      "source": [
        "StudentData_importance"
      ]
    },
    {
      "cell_type": "code",
      "execution_count": null,
      "metadata": {
        "id": "xrFi4_OPC8tS"
      },
      "outputs": [],
      "source": [
        "from sklearn.utils import shuffle\n",
        "StudentData_importance = shuffle(StudentData_importance)"
      ]
    },
    {
      "cell_type": "code",
      "execution_count": null,
      "metadata": {
        "colab": {
          "base_uri": "https://localhost:8080/"
        },
        "id": "223_uTPvC8wW",
        "outputId": "4fef0a99-d7e7-4dfc-f68e-fc392ca76441"
      },
      "outputs": [
        {
          "output_type": "execute_result",
          "data": {
            "text/plain": [
              "((7052, 21), (7052,), (1764, 21), (1764,))"
            ]
          },
          "metadata": {},
          "execution_count": 21
        }
      ],
      "source": [
        "from sklearn.utils import shuffle\n",
        "StudentData_importance = shuffle(StudentData_importance)\n",
        "\n",
        "X = StudentData_importance.drop(['pass'], axis=1).values\n",
        "y = StudentData_importance['pass'].values\n",
        "\n",
        "X_train, X_test, y_train, y_test = train_test_split(X, y, test_size=0.20, random_state=44)\n",
        "X_train.shape, y_train.shape, X_test.shape, y_test.shape"
      ]
    },
    {
      "cell_type": "markdown",
      "metadata": {
        "id": "aU99GOdBJC3Z"
      },
      "source": [
        "# Deep Learning Models"
      ]
    },
    {
      "cell_type": "code",
      "execution_count": null,
      "metadata": {
        "id": "Ng02osnrJC3Z"
      },
      "outputs": [],
      "source": [
        "# Function to evaluate the model\n",
        "def evaluate(model, history, X_train=X_train, X_test=X_test, y_train=y_train, y_test=y_test):\n",
        "    from sklearn import metrics\n",
        "    \n",
        "    # Making predictions from model\n",
        "    y_pred = [1 if i>0.5 else 0 for i in model.predict(X_test)]\n",
        "    y_pred_train = [1 if i>0.5 else 0 for i in model.predict(X_train)]\n",
        "    \n",
        "    # printing all results\n",
        "    print(f\"Training Accuracy: {metrics.accuracy_score(y_train, y_pred_train)}\")\n",
        "    print(f\"Testing  Accuracy: {metrics.accuracy_score(y_test, y_pred)}\")\n",
        "    print(\"-\"*50)\n",
        "\n",
        "    # Creating confusion metric of results\n",
        "    cm = metrics.confusion_matrix(y_test, y_pred)    \n",
        "    \n",
        "    # Classification Report\n",
        "    print(\"Classification Report\")\n",
        "    print(metrics.classification_report(y_test, y_pred)) \n",
        "    print(\"-\"*50)\n",
        "    \n",
        "\n",
        "    \n",
        "    plt.figure(figsize=(7, 6))\n",
        "    sns.heatmap(cm, annot=True, cmap=\"coolwarm\", cbar=False)\n",
        "    plt.xlabel(\"True Values\")\n",
        "    plt.ylabel(\"Predicted Values\")\n",
        "    plt.show()\n",
        "    \n",
        "    # Losses\n",
        "    print(\"\\n\", '-'*50)\n",
        "    plt.plot(history.history['acc'])\n",
        "    plt.plot(history.history['val_acc'])\n",
        "\n",
        "    plt.title('val_acc')\n",
        "    plt.ylabel('accuracy')\n",
        "    plt.xlabel('epoch')\n",
        "    plt.legend(['train','test'], loc='upper left')\n",
        "    plt.show()\n",
        "\n",
        "    plt.plot(history.history['loss'])\n",
        "    plt.plot(history.history['val_loss'])\n",
        "\n",
        "    plt.title('val_loss')\n",
        "    plt.ylabel('loss')\n",
        "    plt.xlabel('epoch')\n",
        "    plt.legend(['train','test'], loc='upper left')\n",
        "    plt.show()"
      ]
    },
    {
      "cell_type": "markdown",
      "metadata": {
        "id": "wEe8fDdlJC3Z"
      },
      "source": [
        "### 1) Text Classification with Simple Neural Network"
      ]
    },
    {
      "cell_type": "code",
      "execution_count": null,
      "metadata": {
        "id": "VuO_TJIXJC3Z"
      },
      "outputs": [],
      "source": [
        "#os.chdir('/content/drive/MyDrive/free_lance/2022-03-04_model_optimization/')\n",
        "#os.chdir('/content/drive/My Drive/')\n",
        "\n",
        "from numpy import array\n",
        "from numpy import asarray\n",
        "from numpy import zeros\n",
        "\n",
        "embeddings_dictionary = dict()\n",
        "glove_file = open('./sample_data/glove.6B.100d.txt', encoding=\"utf8\")\n",
        "\n",
        "for line in glove_file:\n",
        "    records = line.split()\n",
        "    word = records[0]\n",
        "    vector_dimensions = asarray(records[1:], dtype='float32')\n",
        "    embeddings_dictionary [word] = vector_dimensions\n",
        "glove_file.close()"
      ]
    },
    {
      "cell_type": "code",
      "execution_count": null,
      "metadata": {
        "id": "B5NtVpD3JC3Z"
      },
      "outputs": [],
      "source": [
        "embedding_matrix = zeros((vocab_size, 100))\n",
        "for word, index in tokenizer.word_index.items():\n",
        "    embedding_vector = embeddings_dictionary.get(word)\n",
        "    if embedding_vector is not None:\n",
        "        embedding_matrix[index] = embedding_vector"
      ]
    },
    {
      "cell_type": "code",
      "execution_count": null,
      "metadata": {
        "colab": {
          "base_uri": "https://localhost:8080/"
        },
        "id": "b0vAvbJPX-uT",
        "outputId": "8fee10ce-c8fc-4117-8323-a971af8a53f8"
      },
      "outputs": [
        {
          "output_type": "stream",
          "name": "stdout",
          "text": [
            "Model: \"sequential_6\"\n",
            "_________________________________________________________________\n",
            " Layer (type)                Output Shape              Param #   \n",
            "=================================================================\n",
            " embedding_11 (Embedding)    (None, 21, 100)           551900    \n",
            "                                                                 \n",
            " flatten_6 (Flatten)         (None, 2100)              0         \n",
            "                                                                 \n",
            " dense_18 (Dense)            (None, 100)               210100    \n",
            "                                                                 \n",
            " dense_19 (Dense)            (None, 50)                5050      \n",
            "                                                                 \n",
            " dense_20 (Dense)            (None, 10)                510       \n",
            "                                                                 \n",
            " dense_21 (Dense)            (None, 1)                 11        \n",
            "                                                                 \n",
            "=================================================================\n",
            "Total params: 767,571\n",
            "Trainable params: 767,571\n",
            "Non-trainable params: 0\n",
            "_________________________________________________________________\n",
            "None\n"
          ]
        }
      ],
      "source": [
        "model = Sequential()\n",
        "embedding_layer = Embedding(vocab_size, 100, input_length=X_train.shape[1], trainable=True,weights=[embedding_matrix]) #weights=[embedding_matrix]\n",
        "model.add(embedding_layer)\n",
        "model.add(Flatten())\n",
        "model.add(Dense(100, activation='relu'))\n",
        "model.add(Dense(50, activation='relu'))\n",
        "model.add(Dense(10, activation='relu'))\n",
        "model.add(Dense(1, activation='sigmoid'))\n",
        "\n",
        "model.compile(optimizer='adam', loss='binary_crossentropy', metrics=['acc'])\n",
        "\n",
        "print(model.summary())"
      ]
    },
    {
      "cell_type": "code",
      "execution_count": null,
      "metadata": {
        "colab": {
          "base_uri": "https://localhost:8080/"
        },
        "id": "HPY4Vy3yJC3a",
        "outputId": "560c2506-ef23-47e0-a3a8-4de439322350",
        "scrolled": false
      },
      "outputs": [
        {
          "output_type": "stream",
          "name": "stdout",
          "text": [
            "Epoch 1/40\n",
            "177/177 [==============================] - 2s 11ms/step - loss: 0.0088 - acc: 0.9979 - val_loss: 0.1632 - val_acc: 0.9759\n",
            "Epoch 2/40\n",
            "177/177 [==============================] - 2s 10ms/step - loss: 0.0090 - acc: 0.9975 - val_loss: 0.1557 - val_acc: 0.9787\n",
            "Epoch 3/40\n",
            "177/177 [==============================] - 2s 10ms/step - loss: 0.0088 - acc: 0.9979 - val_loss: 0.1567 - val_acc: 0.9787\n",
            "Epoch 4/40\n",
            "177/177 [==============================] - 2s 10ms/step - loss: 0.0086 - acc: 0.9979 - val_loss: 0.1451 - val_acc: 0.9780\n",
            "Epoch 5/40\n",
            "177/177 [==============================] - 1s 6ms/step - loss: 0.0083 - acc: 0.9977 - val_loss: 0.1534 - val_acc: 0.9731\n",
            "Epoch 6/40\n",
            "177/177 [==============================] - 1s 6ms/step - loss: 0.0091 - acc: 0.9975 - val_loss: 0.1590 - val_acc: 0.9787\n",
            "Epoch 7/40\n",
            "177/177 [==============================] - 1s 6ms/step - loss: 0.0089 - acc: 0.9977 - val_loss: 0.1501 - val_acc: 0.9780\n",
            "Epoch 8/40\n",
            "177/177 [==============================] - 1s 6ms/step - loss: 0.0088 - acc: 0.9979 - val_loss: 0.1565 - val_acc: 0.9780\n",
            "Epoch 9/40\n",
            "177/177 [==============================] - 1s 6ms/step - loss: 0.0087 - acc: 0.9977 - val_loss: 0.1612 - val_acc: 0.9773\n",
            "Epoch 10/40\n",
            "177/177 [==============================] - 1s 6ms/step - loss: 0.0088 - acc: 0.9979 - val_loss: 0.1857 - val_acc: 0.9787\n",
            "Epoch 11/40\n",
            "177/177 [==============================] - 1s 6ms/step - loss: 0.0082 - acc: 0.9977 - val_loss: 0.1975 - val_acc: 0.9787\n",
            "Epoch 12/40\n",
            "177/177 [==============================] - 1s 6ms/step - loss: 0.0085 - acc: 0.9977 - val_loss: 0.1966 - val_acc: 0.9780\n",
            "Epoch 13/40\n",
            "177/177 [==============================] - 1s 6ms/step - loss: 0.0091 - acc: 0.9977 - val_loss: 0.1499 - val_acc: 0.9759\n",
            "Epoch 14/40\n",
            "177/177 [==============================] - 1s 6ms/step - loss: 0.0089 - acc: 0.9977 - val_loss: 0.1717 - val_acc: 0.9766\n",
            "Epoch 15/40\n",
            "177/177 [==============================] - 1s 6ms/step - loss: 0.0089 - acc: 0.9977 - val_loss: 0.1795 - val_acc: 0.9787\n",
            "Epoch 16/40\n",
            "177/177 [==============================] - 1s 6ms/step - loss: 0.0085 - acc: 0.9979 - val_loss: 0.1704 - val_acc: 0.9752\n",
            "Epoch 17/40\n",
            "177/177 [==============================] - 1s 6ms/step - loss: 0.0084 - acc: 0.9977 - val_loss: 0.1808 - val_acc: 0.9745\n",
            "Epoch 18/40\n",
            "177/177 [==============================] - 1s 6ms/step - loss: 0.0102 - acc: 0.9977 - val_loss: 0.1642 - val_acc: 0.9773\n",
            "Epoch 19/40\n",
            "177/177 [==============================] - 1s 6ms/step - loss: 0.0088 - acc: 0.9979 - val_loss: 0.2004 - val_acc: 0.9780\n",
            "Epoch 20/40\n",
            "177/177 [==============================] - 1s 6ms/step - loss: 0.0087 - acc: 0.9979 - val_loss: 0.1931 - val_acc: 0.9773\n",
            "Epoch 21/40\n",
            "177/177 [==============================] - 1s 6ms/step - loss: 0.0085 - acc: 0.9977 - val_loss: 0.1629 - val_acc: 0.9745\n",
            "Epoch 22/40\n",
            "177/177 [==============================] - 1s 6ms/step - loss: 0.0165 - acc: 0.9961 - val_loss: 0.1603 - val_acc: 0.9660\n",
            "Epoch 23/40\n",
            "177/177 [==============================] - 1s 6ms/step - loss: 0.0277 - acc: 0.9918 - val_loss: 0.1455 - val_acc: 0.9745\n",
            "Epoch 24/40\n",
            "177/177 [==============================] - 1s 6ms/step - loss: 0.0147 - acc: 0.9965 - val_loss: 0.1228 - val_acc: 0.9752\n",
            "Epoch 25/40\n",
            "177/177 [==============================] - 1s 6ms/step - loss: 0.0090 - acc: 0.9977 - val_loss: 0.1418 - val_acc: 0.9759\n",
            "Epoch 26/40\n",
            "177/177 [==============================] - 1s 6ms/step - loss: 0.0090 - acc: 0.9979 - val_loss: 0.1465 - val_acc: 0.9717\n",
            "Epoch 27/40\n",
            "177/177 [==============================] - 1s 6ms/step - loss: 0.0087 - acc: 0.9979 - val_loss: 0.1440 - val_acc: 0.9745\n",
            "Epoch 28/40\n",
            "177/177 [==============================] - 1s 6ms/step - loss: 0.0087 - acc: 0.9977 - val_loss: 0.1558 - val_acc: 0.9780\n",
            "Epoch 29/40\n",
            "177/177 [==============================] - 1s 6ms/step - loss: 0.0084 - acc: 0.9977 - val_loss: 0.1663 - val_acc: 0.9780\n",
            "Epoch 30/40\n",
            "177/177 [==============================] - 1s 6ms/step - loss: 0.0088 - acc: 0.9975 - val_loss: 0.1556 - val_acc: 0.9766\n",
            "Epoch 31/40\n",
            "177/177 [==============================] - 1s 6ms/step - loss: 0.0085 - acc: 0.9979 - val_loss: 0.1535 - val_acc: 0.9738\n",
            "Epoch 32/40\n",
            "177/177 [==============================] - 1s 6ms/step - loss: 0.0087 - acc: 0.9979 - val_loss: 0.1646 - val_acc: 0.9780\n",
            "Epoch 33/40\n",
            "177/177 [==============================] - 1s 6ms/step - loss: 0.0098 - acc: 0.9979 - val_loss: 0.1565 - val_acc: 0.9759\n",
            "Epoch 34/40\n",
            "177/177 [==============================] - 1s 6ms/step - loss: 0.0083 - acc: 0.9975 - val_loss: 0.1689 - val_acc: 0.9780\n",
            "Epoch 35/40\n",
            "177/177 [==============================] - 1s 6ms/step - loss: 0.0086 - acc: 0.9979 - val_loss: 0.1592 - val_acc: 0.9745\n",
            "Epoch 36/40\n",
            "177/177 [==============================] - 1s 6ms/step - loss: 0.0085 - acc: 0.9975 - val_loss: 0.1739 - val_acc: 0.9773\n",
            "Epoch 37/40\n",
            "177/177 [==============================] - 1s 6ms/step - loss: 0.0086 - acc: 0.9979 - val_loss: 0.1836 - val_acc: 0.9780\n",
            "Epoch 38/40\n",
            "177/177 [==============================] - 1s 6ms/step - loss: 0.0088 - acc: 0.9979 - val_loss: 0.1730 - val_acc: 0.9766\n",
            "Epoch 39/40\n",
            "177/177 [==============================] - 1s 6ms/step - loss: 0.0088 - acc: 0.9979 - val_loss: 0.1684 - val_acc: 0.9731\n",
            "Epoch 40/40\n",
            "177/177 [==============================] - 1s 6ms/step - loss: 0.0085 - acc: 0.9979 - val_loss: 0.1736 - val_acc: 0.9752\n"
          ]
        }
      ],
      "source": [
        "history = model.fit(X_train, y_train, batch_size=32, epochs=40, verbose=1, validation_split=0.2)"
      ]
    },
    {
      "cell_type": "code",
      "execution_count": null,
      "metadata": {
        "colab": {
          "base_uri": "https://localhost:8080/",
          "height": 1000
        },
        "id": "z8JKf6JcJC3a",
        "outputId": "d6f9bd13-be2c-424f-a03a-f1bbf8b4e373",
        "scrolled": true
      },
      "outputs": [
        {
          "output_type": "stream",
          "name": "stdout",
          "text": [
            "Training Accuracy: 0.9933352240499149\n",
            "Testing  Accuracy: 0.9784580498866213\n",
            "--------------------------------------------------\n",
            "Classification Report\n",
            "              precision    recall  f1-score   support\n",
            "\n",
            "           0       0.98      0.99      0.99      1664\n",
            "           1       0.88      0.72      0.79       100\n",
            "\n",
            "    accuracy                           0.98      1764\n",
            "   macro avg       0.93      0.86      0.89      1764\n",
            "weighted avg       0.98      0.98      0.98      1764\n",
            "\n",
            "--------------------------------------------------\n"
          ]
        },
        {
          "output_type": "display_data",
          "data": {
            "image/png": "[encoded data removed]",
            "text/plain": [
              "<Figure size 504x432 with 1 Axes>"
            ]
          },
          "metadata": {
            "needs_background": "light"
          }
        },
        {
          "output_type": "stream",
          "name": "stdout",
          "text": [
            "\n",
            " --------------------------------------------------\n"
          ]
        },
        {
          "output_type": "display_data",
          "data": {
            "image/png": "[encoded data removed]",
            "text/plain": [
              "<Figure size 432x288 with 1 Axes>"
            ]
          },
          "metadata": {
            "needs_background": "light"
          }
        },
        {
          "output_type": "display_data",
          "data": {
            "image/png": "[encoded data removed]",
            "text/plain": [
              "<Figure size 432x288 with 1 Axes>"
            ]
          },
          "metadata": {
            "needs_background": "light"
          }
        }
      ],
      "source": [
        "evaluate(model, history)"
      ]
    },
    {
      "cell_type": "markdown",
      "metadata": {
        "id": "1jspfVNvJC3c"
      },
      "source": [
        "### 2) Text Classification with LSTM"
      ]
    },
    {
      "cell_type": "code",
      "execution_count": null,
      "metadata": {
        "id": "0DIVa_IZJC3c"
      },
      "outputs": [],
      "source": [
        "import pandas as pd\n",
        "import numpy as np\n",
        "import matplotlib.pyplot as plt\n",
        "import seaborn as sns\n",
        "from sklearn.model_selection import train_test_split\n",
        "from sklearn.preprocessing import LabelEncoder\n",
        "from keras.models import Model\n",
        "from keras.layers import LSTM, Activation, Dense, Dropout, Input, Embedding\n",
        "from tensorflow.keras.optimizers import RMSprop\n",
        "from keras.preprocessing.text import Tokenizer\n",
        "from keras.preprocessing import sequence\n",
        "from tensorflow.keras.utils import to_categorical\n",
        "from keras.callbacks import EarlyStopping"
      ]
    },
    {
      "cell_type": "code",
      "execution_count": null,
      "metadata": {
        "id": "JEh8EB_yJC3c"
      },
      "outputs": [],
      "source": [
        "model = Sequential()\n",
        "embedding_layer = Embedding(vocab_size, 100, weights=[embedding_matrix], input_length=X_train.shape[1] , trainable=False)\n",
        "model.add(embedding_layer)\n",
        "model.add(LSTM(128))\n",
        "\n",
        "model.add(Dense(1, activation='sigmoid'))\n",
        "model.compile(optimizer='adam', loss='binary_crossentropy', metrics=['acc'])"
      ]
    },
    {
      "cell_type": "code",
      "execution_count": null,
      "metadata": {
        "colab": {
          "base_uri": "https://localhost:8080/"
        },
        "id": "qxuUa-WvJC3c",
        "outputId": "e11395ea-2de2-46ab-ba4d-fac1d0bd906c"
      },
      "outputs": [
        {
          "output_type": "stream",
          "name": "stdout",
          "text": [
            "Model: \"sequential_7\"\n",
            "_________________________________________________________________\n",
            " Layer (type)                Output Shape              Param #   \n",
            "=================================================================\n",
            " embedding_13 (Embedding)    (None, 21, 100)           551900    \n",
            "                                                                 \n",
            " lstm_5 (LSTM)               (None, 128)               117248    \n",
            "                                                                 \n",
            " dense_23 (Dense)            (None, 1)                 129       \n",
            "                                                                 \n",
            "=================================================================\n",
            "Total params: 669,277\n",
            "Trainable params: 117,377\n",
            "Non-trainable params: 551,900\n",
            "_________________________________________________________________\n",
            "None\n"
          ]
        }
      ],
      "source": [
        "print(model.summary())"
      ]
    },
    {
      "cell_type": "code",
      "execution_count": null,
      "metadata": {
        "colab": {
          "base_uri": "https://localhost:8080/"
        },
        "id": "LzKxHzLJJC3c",
        "outputId": "68938115-e1ae-4183-9948-af437f76bef6"
      },
      "outputs": [
        {
          "output_type": "stream",
          "name": "stdout",
          "text": [
            "Epoch 1/15\n",
            "177/177 [==============================] - 5s 14ms/step - loss: 2.3689 - acc: 0.1170 - val_loss: 0.9163 - val_acc: 0.4245\n",
            "Epoch 2/15\n",
            "177/177 [==============================] - 2s 11ms/step - loss: 1.8326 - acc: 0.3863 - val_loss: 1.0535 - val_acc: 0.2410\n",
            "Epoch 3/15\n",
            "177/177 [==============================] - 2s 10ms/step - loss: 1.5692 - acc: 0.4485 - val_loss: 0.7504 - val_acc: 0.6300\n",
            "Epoch 4/15\n",
            "177/177 [==============================] - 2s 11ms/step - loss: 1.3698 - acc: 0.5815 - val_loss: 0.7578 - val_acc: 0.5776\n",
            "Epoch 5/15\n",
            "177/177 [==============================] - 2s 10ms/step - loss: 1.1311 - acc: 0.6829 - val_loss: 0.9699 - val_acc: 0.5032\n",
            "Epoch 6/15\n",
            "177/177 [==============================] - 2s 11ms/step - loss: 1.0920 - acc: 0.6846 - val_loss: 0.6975 - val_acc: 0.6662\n",
            "Epoch 7/15\n",
            "177/177 [==============================] - 2s 10ms/step - loss: 0.9523 - acc: 0.7192 - val_loss: 0.6483 - val_acc: 0.6343\n",
            "Epoch 8/15\n",
            "177/177 [==============================] - 2s 11ms/step - loss: 0.8221 - acc: 0.7649 - val_loss: 0.7203 - val_acc: 0.6917\n",
            "Epoch 9/15\n",
            "177/177 [==============================] - 2s 11ms/step - loss: 0.7854 - acc: 0.7694 - val_loss: 0.6205 - val_acc: 0.6832\n",
            "Epoch 10/15\n",
            "177/177 [==============================] - 2s 10ms/step - loss: 0.7220 - acc: 0.8146 - val_loss: 0.3399 - val_acc: 0.8434\n",
            "Epoch 11/15\n",
            "177/177 [==============================] - 2s 10ms/step - loss: 0.6364 - acc: 0.8295 - val_loss: 0.7962 - val_acc: 0.7293\n",
            "Epoch 12/15\n",
            "177/177 [==============================] - 2s 10ms/step - loss: 0.6975 - acc: 0.8039 - val_loss: 0.3127 - val_acc: 0.8625\n",
            "Epoch 13/15\n",
            "177/177 [==============================] - 2s 11ms/step - loss: 0.4846 - acc: 0.8674 - val_loss: 0.4258 - val_acc: 0.7768\n",
            "Epoch 14/15\n",
            "177/177 [==============================] - 2s 11ms/step - loss: 0.4180 - acc: 0.8876 - val_loss: 0.6103 - val_acc: 0.7165\n",
            "Epoch 15/15\n",
            "177/177 [==============================] - 2s 11ms/step - loss: 0.4572 - acc: 0.8514 - val_loss: 0.2003 - val_acc: 0.8901\n"
          ]
        }
      ],
      "source": [
        "history = model.fit(X_train, y_train, batch_size=32, epochs=15, verbose=1, validation_split=0.2, class_weight = {0: 1, 1: 100})"
      ]
    },
    {
      "cell_type": "code",
      "execution_count": null,
      "metadata": {
        "colab": {
          "base_uri": "https://localhost:8080/",
          "height": 1000
        },
        "id": "TWb_Sgz0JC3c",
        "outputId": "1824c319-7c7b-4cfe-d255-fd59fd3708e4"
      },
      "outputs": [
        {
          "output_type": "stream",
          "name": "stdout",
          "text": [
            "Training Accuracy: 0.9041406693136699\n",
            "Testing  Accuracy: 0.8968253968253969\n",
            "--------------------------------------------------\n",
            "Classification Report\n",
            "              precision    recall  f1-score   support\n",
            "\n",
            "           0       0.99      0.90      0.94      1664\n",
            "           1       0.33      0.80      0.47       100\n",
            "\n",
            "    accuracy                           0.90      1764\n",
            "   macro avg       0.66      0.85      0.71      1764\n",
            "weighted avg       0.95      0.90      0.92      1764\n",
            "\n",
            "--------------------------------------------------\n"
          ]
        },
        {
          "output_type": "display_data",
          "data": {
            "image/png": "[encoded data removed]",
            "text/plain": [
              "<Figure size 504x432 with 1 Axes>"
            ]
          },
          "metadata": {
            "needs_background": "light"
          }
        },
        {
          "output_type": "stream",
          "name": "stdout",
          "text": [
            "\n",
            " --------------------------------------------------\n"
          ]
        },
        {
          "output_type": "display_data",
          "data": {
            "image/png": "[encoded data removed]",
            "text/plain": [
              "<Figure size 432x288 with 1 Axes>"
            ]
          },
          "metadata": {
            "needs_background": "light"
          }
        },
        {
          "output_type": "display_data",
          "data": {
            "image/png": "[encoded data removed]",
            "text/plain": [
              "<Figure size 432x288 with 1 Axes>"
            ]
          },
          "metadata": {
            "needs_background": "light"
          }
        }
      ],
      "source": [
        "evaluate(model, history)"
      ]
    },
    {
      "cell_type": "markdown",
      "metadata": {
        "id": "E144ykFbJC3d"
      },
      "source": [
        "### 3) Text classification with RNN"
      ]
    },
    {
      "cell_type": "code",
      "execution_count": null,
      "metadata": {
        "id": "SxTzcFnoJC3d"
      },
      "outputs": [],
      "source": [
        "def RNN():\n",
        "    inputs = Input(name='inputs',shape=[X_test.shape[1]])\n",
        "    layer = Embedding(vocab_size,100,input_length=X_test.shape[1], weights =[embedding_matrix],trainable=True)(inputs)\n",
        "    layer = LSTM(64)(layer)\n",
        "    layer = Dense(256,name='FC1')(layer)\n",
        "    layer = Activation('relu')(layer)\n",
        "    layer = Dropout(0.5)(layer)\n",
        "    layer = Dense(1,name='out_layer')(layer)\n",
        "    layer = Activation('sigmoid')(layer)\n",
        "    model = Model(inputs=inputs,outputs=layer)\n",
        "    return model"
      ]
    },
    {
      "cell_type": "code",
      "execution_count": null,
      "metadata": {
        "colab": {
          "base_uri": "https://localhost:8080/"
        },
        "id": "fLQzbTMRJC3d",
        "outputId": "17ff0091-3ce2-45a5-8aea-23dfb395adf5"
      },
      "outputs": [
        {
          "output_type": "stream",
          "name": "stdout",
          "text": [
            "Model: \"model_6\"\n",
            "_________________________________________________________________\n",
            " Layer (type)                Output Shape              Param #   \n",
            "=================================================================\n",
            " inputs (InputLayer)         [(None, 21)]              0         \n",
            "                                                                 \n",
            " embedding_14 (Embedding)    (None, 21, 100)           551900    \n",
            "                                                                 \n",
            " lstm_6 (LSTM)               (None, 64)                42240     \n",
            "                                                                 \n",
            " FC1 (Dense)                 (None, 256)               16640     \n",
            "                                                                 \n",
            " activation_4 (Activation)   (None, 256)               0         \n",
            "                                                                 \n",
            " dropout_6 (Dropout)         (None, 256)               0         \n",
            "                                                                 \n",
            " out_layer (Dense)           (None, 1)                 257       \n",
            "                                                                 \n",
            " activation_5 (Activation)   (None, 1)                 0         \n",
            "                                                                 \n",
            "=================================================================\n",
            "Total params: 611,037\n",
            "Trainable params: 611,037\n",
            "Non-trainable params: 0\n",
            "_________________________________________________________________\n"
          ]
        }
      ],
      "source": [
        "model = RNN()\n",
        "model.summary()\n",
        "model.compile(loss='binary_crossentropy',optimizer=RMSprop(),metrics=['acc'])"
      ]
    },
    {
      "cell_type": "code",
      "execution_count": null,
      "metadata": {
        "colab": {
          "base_uri": "https://localhost:8080/"
        },
        "id": "OazjHuVeJC3d",
        "outputId": "4335d493-2e91-4976-e753-c83ea558a4c4"
      },
      "outputs": [
        {
          "output_type": "stream",
          "name": "stdout",
          "text": [
            "Epoch 1/10\n",
            "177/177 [==============================] - 5s 14ms/step - loss: 0.1992 - acc: 0.9426 - val_loss: 0.1506 - val_acc: 0.9561\n",
            "Epoch 2/10\n",
            "177/177 [==============================] - 2s 11ms/step - loss: 0.1204 - acc: 0.9638 - val_loss: 0.1076 - val_acc: 0.9759\n",
            "Epoch 3/10\n",
            "177/177 [==============================] - 2s 10ms/step - loss: 0.0842 - acc: 0.9741 - val_loss: 0.0826 - val_acc: 0.9787\n",
            "Epoch 4/10\n",
            "177/177 [==============================] - 2s 11ms/step - loss: 0.0637 - acc: 0.9796 - val_loss: 0.0821 - val_acc: 0.9780\n",
            "Epoch 5/10\n",
            "177/177 [==============================] - 2s 11ms/step - loss: 0.0489 - acc: 0.9879 - val_loss: 0.0778 - val_acc: 0.9809\n",
            "Epoch 6/10\n",
            "177/177 [==============================] - 2s 10ms/step - loss: 0.0415 - acc: 0.9888 - val_loss: 0.1067 - val_acc: 0.9802\n",
            "Epoch 7/10\n",
            "177/177 [==============================] - 2s 10ms/step - loss: 0.0353 - acc: 0.9918 - val_loss: 0.0868 - val_acc: 0.9802\n",
            "Epoch 8/10\n",
            "177/177 [==============================] - 2s 11ms/step - loss: 0.0312 - acc: 0.9918 - val_loss: 0.0938 - val_acc: 0.9724\n",
            "Epoch 9/10\n",
            "177/177 [==============================] - 2s 10ms/step - loss: 0.0261 - acc: 0.9938 - val_loss: 0.1266 - val_acc: 0.9794\n",
            "Epoch 10/10\n",
            "177/177 [==============================] - 2s 11ms/step - loss: 0.0269 - acc: 0.9924 - val_loss: 0.1071 - val_acc: 0.9766\n"
          ]
        }
      ],
      "source": [
        "history = model.fit(X_train, y_train, batch_size=32, epochs=10, verbose=1, validation_split=0.2)"
      ]
    },
    {
      "cell_type": "code",
      "execution_count": null,
      "metadata": {
        "colab": {
          "base_uri": "https://localhost:8080/",
          "height": 1000
        },
        "id": "awPDRViqJC3d",
        "outputId": "eeb7f5f3-b6cb-4f04-cc53-4078074e3126"
      },
      "outputs": [
        {
          "output_type": "stream",
          "name": "stdout",
          "text": [
            "Training Accuracy: 0.9922007941009643\n",
            "Testing  Accuracy: 0.9784580498866213\n",
            "--------------------------------------------------\n",
            "Classification Report\n",
            "              precision    recall  f1-score   support\n",
            "\n",
            "           0       0.98      0.99      0.99      1664\n",
            "           1       0.89      0.71      0.79       100\n",
            "\n",
            "    accuracy                           0.98      1764\n",
            "   macro avg       0.94      0.85      0.89      1764\n",
            "weighted avg       0.98      0.98      0.98      1764\n",
            "\n",
            "--------------------------------------------------\n"
          ]
        },
        {
          "output_type": "display_data",
          "data": {
            "image/png": "[encoded data removed]",
            "text/plain": [
              "<Figure size 504x432 with 1 Axes>"
            ]
          },
          "metadata": {
            "needs_background": "light"
          }
        },
        {
          "output_type": "stream",
          "name": "stdout",
          "text": [
            "\n",
            " --------------------------------------------------\n"
          ]
        },
        {
          "output_type": "display_data",
          "data": {
            "image/png": "[encoded data removed]",
            "text/plain": [
              "<Figure size 432x288 with 1 Axes>"
            ]
          },
          "metadata": {
            "needs_background": "light"
          }
        },
        {
          "output_type": "display_data",
          "data": {
            "image/png": "[encoded data removed]",
            "text/plain": [
              "<Figure size 432x288 with 1 Axes>"
            ]
          },
          "metadata": {
            "needs_background": "light"
          }
        }
      ],
      "source": [
        "evaluate(model, history)"
      ]
    }
  ],
  "metadata": {
    "accelerator": "GPU",
    "colab": {
      "collapsed_sections": [],
      "provenance": []
    },
    "kernelspec": {
      "display_name": "Python 3",
      "language": "python",
      "name": "python3"
    },
    "language_info": {
      "codemirror_mode": {
        "name": "ipython",
        "version": 3
      },
      "file_extension": ".py",
      "mimetype": "text/x-python",
      "name": "python",
      "nbconvert_exporter": "python",
      "pygments_lexer": "ipython3",
      "version": "3.8.5"
    }
  },
  "nbformat": 4,
  "nbformat_minor": 0
}